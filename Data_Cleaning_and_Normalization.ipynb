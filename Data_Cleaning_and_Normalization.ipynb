{
  "cells": [
    {
      "cell_type": "markdown",
      "metadata": {
        "id": "view-in-github",
        "colab_type": "text"
      },
      "source": [
        "<a href=\"https://colab.research.google.com/github/Jerin2004/Lect-26-CIPHER-SCHOOL-/blob/main/Data_Cleaning_and_Normalization.ipynb\" target=\"_parent\"><img src=\"https://colab.research.google.com/assets/colab-badge.svg\" alt=\"Open In Colab\"/></a>"
      ]
    },
    {
      "cell_type": "markdown",
      "id": "58669d06",
      "metadata": {
        "id": "58669d06"
      },
      "source": [
        "## Data Cleaning and Normalization\n",
        "\n",
        "**Definition:**\n",
        "- **Data Cleaning:** Data cleaning involves identifying and correcting (or removing) errors and inconsistencies in data to improve its quality. Common tasks include handling missing values, removing duplicates, correcting errors, and ensuring consistency in data formats.\n",
        "- **Normalization:** Normalization is the process of scaling numerical data to a standard range, typically between 0 and 1, or transforming it to have a mean of 0 and a standard deviation of 1. This process helps improve the performance of machine learning algorithms and ensures that all features contribute equally to the result.\n",
        "\n",
        "**Use Case in Real Life:**\n",
        "- **Preparing Data for Machine Learning:** Handle missing values and remove duplicates to ensure clean data. Normalize features to improve the performance of machine learning algorithms.\n",
        "- **Financial Data Analysis:** Correct errors in transaction data and fill missing values. Normalize financial metrics for comparison across different scales.\n",
        "- **Customer Data Management:** Ensure consistency in customer records and correct erroneous entries. Normalize customer age and income data for segmentation analysis."
      ]
    },
    {
      "cell_type": "markdown",
      "id": "cdb11864",
      "metadata": {
        "id": "cdb11864"
      },
      "source": [
        "### Loading the Dataset"
      ]
    },
    {
      "cell_type": "code",
      "execution_count": null,
      "id": "8a8c56f0",
      "metadata": {
        "colab": {
          "base_uri": "https://localhost:8080/"
        },
        "id": "8a8c56f0",
        "outputId": "6724c761-47d1-4baa-87c3-9847b16edff8"
      },
      "outputs": [
        {
          "output_type": "stream",
          "name": "stdout",
          "text": [
            "      Name   Age   Salary   Department\n",
            "0    Alice  25.0  50000.0           HR\n",
            "1      Bob  30.0      NaN  Engineering\n",
            "2  Charlie  35.0  70000.0  Engineering\n",
            "3    David   NaN  60000.0           HR\n",
            "4      Eve  28.0  80000.0           HR\n",
            "5    Frank  40.0  55000.0        Sales\n",
            "6    Grace  50.0  85000.0        Sales\n",
            "7     Hank  60.0  90000.0        Sales\n"
          ]
        }
      ],
      "source": [
        "import pandas as pd\n",
        "\n",
        "# Load the dataset\n",
        "df = pd.read_csv('sample_data.csv')\n",
        "print(df)"
      ]
    },
    {
      "cell_type": "markdown",
      "id": "f4cff85c",
      "metadata": {
        "id": "f4cff85c"
      },
      "source": [
        "### Identifying Missing Values"
      ]
    },
    {
      "cell_type": "code",
      "execution_count": null,
      "id": "3ec89afb",
      "metadata": {
        "colab": {
          "base_uri": "https://localhost:8080/"
        },
        "id": "3ec89afb",
        "outputId": "68260a5e-5c85-4793-d002-a83fe94c3bca"
      },
      "outputs": [
        {
          "output_type": "stream",
          "name": "stdout",
          "text": [
            "Name          0\n",
            "Age           1\n",
            "Salary        2\n",
            "Department    0\n",
            "dtype: int64\n"
          ]
        }
      ],
      "source": [
        "# Check for missing values\n",
        "print(df.isnull().sum())"
      ]
    },
    {
      "cell_type": "code",
      "source": [
        "df.info()"
      ],
      "metadata": {
        "colab": {
          "base_uri": "https://localhost:8080/"
        },
        "id": "BQrxFzJOjSS4",
        "outputId": "0fb75907-d342-4c4e-8374-295d0fc8fd13"
      },
      "id": "BQrxFzJOjSS4",
      "execution_count": null,
      "outputs": [
        {
          "output_type": "stream",
          "name": "stdout",
          "text": [
            "<class 'pandas.core.frame.DataFrame'>\n",
            "RangeIndex: 10 entries, 0 to 9\n",
            "Data columns (total 4 columns):\n",
            " #   Column      Non-Null Count  Dtype  \n",
            "---  ------      --------------  -----  \n",
            " 0   Name        10 non-null     object \n",
            " 1   Age         9 non-null      float64\n",
            " 2   Salary      8 non-null      float64\n",
            " 3   Department  10 non-null     object \n",
            "dtypes: float64(2), object(2)\n",
            "memory usage: 448.0+ bytes\n"
          ]
        }
      ]
    },
    {
      "cell_type": "markdown",
      "id": "d768f547",
      "metadata": {
        "id": "d768f547"
      },
      "source": [
        "### Removing Rows with Missing Values"
      ]
    },
    {
      "cell_type": "code",
      "execution_count": null,
      "id": "3cb1c9d3",
      "metadata": {
        "colab": {
          "base_uri": "https://localhost:8080/"
        },
        "id": "3cb1c9d3",
        "outputId": "792e0555-00b4-469f-d1aa-80b5d8c07207"
      },
      "outputs": [
        {
          "output_type": "stream",
          "name": "stdout",
          "text": [
            "      Name   Age   Salary   Department\n",
            "0    Alice  25.0  50000.0           HR\n",
            "2  Charlie  35.0  70000.0  Engineering\n",
            "4      Eve  28.0  80000.0           HR\n",
            "5    Frank  40.0  55000.0        Sales\n",
            "6    Grace  50.0  85000.0        Sales\n",
            "7     Hank  60.0  90000.0        Sales\n"
          ]
        }
      ],
      "source": [
        "# Remove rows with any missing values\n",
        "df_cleaned = df.dropna()\n",
        "print(df_cleaned)"
      ]
    },
    {
      "cell_type": "markdown",
      "id": "c3602cd2",
      "metadata": {
        "id": "c3602cd2"
      },
      "source": [
        "### Filling Missing Values"
      ]
    },
    {
      "cell_type": "code",
      "execution_count": null,
      "id": "2b9be4bf",
      "metadata": {
        "colab": {
          "base_uri": "https://localhost:8080/"
        },
        "id": "2b9be4bf",
        "outputId": "829711d4-a22e-4e55-cc42-9ee84fc9e62f"
      },
      "outputs": [
        {
          "output_type": "stream",
          "name": "stdout",
          "text": [
            "      Name        Age   Salary   Department\n",
            "0    Alice  25.000000  50000.0           HR\n",
            "1      Bob  30.000000  70000.0  Engineering\n",
            "2  Charlie  35.000000  70000.0  Engineering\n",
            "3    David  38.285714  60000.0           HR\n",
            "4      Eve  28.000000  80000.0           HR\n",
            "5    Frank  40.000000  55000.0        Sales\n",
            "6    Grace  50.000000  85000.0        Sales\n",
            "7     Hank  60.000000  90000.0        Sales\n"
          ]
        }
      ],
      "source": [
        "# Fill missing values with a specific value\n",
        "df_filled = df.fillna({\n",
        "    'Age': df['Age'].mean(),\n",
        "    'Salary': df['Salary'].mean()\n",
        "})\n",
        "print(df_filled)"
      ]
    },
    {
      "cell_type": "markdown",
      "id": "61faa028",
      "metadata": {
        "id": "61faa028"
      },
      "source": [
        "### Forward Fill Method"
      ]
    },
    {
      "cell_type": "code",
      "execution_count": null,
      "id": "c8aad4a5",
      "metadata": {
        "colab": {
          "base_uri": "https://localhost:8080/"
        },
        "id": "c8aad4a5",
        "outputId": "74cd87a7-b9c8-4ff4-949c-9dec455317ca"
      },
      "outputs": [
        {
          "output_type": "stream",
          "name": "stdout",
          "text": [
            "      Name   Age   Salary   Department\n",
            "0    Alice  25.0  50000.0           HR\n",
            "1      Bob  30.0  50000.0  Engineering\n",
            "2  Charlie  35.0  70000.0  Engineering\n",
            "3    David  35.0  60000.0           HR\n",
            "4      Eve  28.0  80000.0           HR\n",
            "5    Frank  40.0  55000.0        Sales\n",
            "6    Grace  50.0  85000.0        Sales\n",
            "7     Hank  60.0  90000.0        Sales\n"
          ]
        }
      ],
      "source": [
        "# Forward fill method to propagate the next values backward\n",
        "df_ffill = df.fillna(method='ffill')\n",
        "print(df_ffill)"
      ]
    },
    {
      "cell_type": "markdown",
      "id": "54cac602",
      "metadata": {
        "id": "54cac602"
      },
      "source": [
        "### Backward Fill Method"
      ]
    },
    {
      "cell_type": "code",
      "execution_count": null,
      "id": "ffb602ae",
      "metadata": {
        "colab": {
          "base_uri": "https://localhost:8080/"
        },
        "id": "ffb602ae",
        "outputId": "ef575245-1a84-4157-abaa-b75154423b1b"
      },
      "outputs": [
        {
          "output_type": "stream",
          "name": "stdout",
          "text": [
            "      Name   Age   Salary   Department\n",
            "0    Alice  25.0  50000.0           HR\n",
            "1      Bob  30.0  70000.0  Engineering\n",
            "2  Charlie  35.0  70000.0  Engineering\n",
            "3    David  28.0  60000.0           HR\n",
            "4      Eve  28.0  80000.0           HR\n",
            "5    Frank  40.0  55000.0        Sales\n",
            "6    Grace  50.0  85000.0        Sales\n",
            "7     Hank  60.0  90000.0        Sales\n"
          ]
        }
      ],
      "source": [
        "# Backward fill method to propagate the previous values forward\n",
        "df_bfill = df.fillna(method='bfill')\n",
        "print(df_bfill)"
      ]
    },
    {
      "cell_type": "markdown",
      "id": "a25018eb",
      "metadata": {
        "id": "a25018eb"
      },
      "source": [
        "### Removing Duplicates"
      ]
    },
    {
      "cell_type": "code",
      "execution_count": null,
      "id": "335cfba9",
      "metadata": {
        "colab": {
          "base_uri": "https://localhost:8080/"
        },
        "id": "335cfba9",
        "outputId": "e8c45c44-1039-4623-8627-be33be58ecc9"
      },
      "outputs": [
        {
          "output_type": "stream",
          "name": "stdout",
          "text": [
            "Before removing duplicates:\n",
            "       Name   Age   Salary   Department\n",
            "0    Alice  25.0  50000.0           HR\n",
            "1      Bob  30.0      NaN  Engineering\n",
            "2  Charlie  35.0  70000.0  Engineering\n",
            "3    David   NaN  60000.0           HR\n",
            "4      Eve  28.0  80000.0           HR\n",
            "5    Frank  40.0  55000.0        Sales\n",
            "6    Grace  50.0  85000.0        Sales\n",
            "7     Hank  60.0  90000.0        Sales\n",
            "8    Alice  25.0  50000.0           HR\n",
            "9      Bob  30.0      NaN  Engineering\n",
            "After removing duplicates:\n",
            "       Name   Age   Salary   Department\n",
            "0    Alice  25.0  50000.0           HR\n",
            "1      Bob  30.0      NaN  Engineering\n",
            "2  Charlie  35.0  70000.0  Engineering\n",
            "3    David   NaN  60000.0           HR\n",
            "4      Eve  28.0  80000.0           HR\n",
            "5    Frank  40.0  55000.0        Sales\n",
            "6    Grace  50.0  85000.0        Sales\n",
            "7     Hank  60.0  90000.0        Sales\n"
          ]
        }
      ],
      "source": [
        "# Add duplicate rows for demonstration\n",
        "df = pd.concat([df, df.iloc[[0]], df.iloc[[1]]], ignore_index=True)\n",
        "print('Before removing duplicates:\\n', df)\n",
        "\n",
        "# Remove duplicate rows\n",
        "df_no_duplicates = df.drop_duplicates()\n",
        "print('After removing duplicates:\\n', df_no_duplicates)"
      ]
    },
    {
      "cell_type": "markdown",
      "id": "eccd1b7c",
      "metadata": {
        "id": "eccd1b7c"
      },
      "source": [
        "### Replacing Incorrect Values"
      ]
    },
    {
      "cell_type": "code",
      "execution_count": null,
      "id": "45332593",
      "metadata": {
        "colab": {
          "base_uri": "https://localhost:8080/"
        },
        "id": "45332593",
        "outputId": "acb758cb-ed59-492c-a857-1e4ce18bfea1"
      },
      "outputs": [
        {
          "output_type": "stream",
          "name": "stdout",
          "text": [
            "      Name   Age   Salary        Department\n",
            "0    Alice  25.0  50000.0   Human Resources\n",
            "1      Bob  30.0      NaN       Engineering\n",
            "2  Charlie  35.0  70000.0       Engineering\n",
            "3    David   NaN  60000.0   Human Resources\n",
            "4      Eve  28.0  80000.0   Human Resources\n",
            "5    Frank  40.0  55000.0  Sales Department\n",
            "6    Grace  50.0  85000.0  Sales Department\n",
            "7     Hank  60.0  90000.0  Sales Department\n",
            "8    Alice  25.0  50000.0   Human Resources\n",
            "9      Bob  30.0      NaN       Engineering\n"
          ]
        }
      ],
      "source": [
        "# Replace incorrect values in the 'Department' column\n",
        "df_corrected = df.replace({'Department': {'HR': 'Human Resources', 'Sales': 'Sales Department'}})\n",
        "print(df_corrected)"
      ]
    },
    {
      "cell_type": "markdown",
      "id": "63d497b8",
      "metadata": {
        "id": "63d497b8"
      },
      "source": [
        "### Ensuring Consistency"
      ]
    },
    {
      "cell_type": "code",
      "execution_count": null,
      "id": "a423c551",
      "metadata": {
        "colab": {
          "base_uri": "https://localhost:8080/"
        },
        "id": "a423c551",
        "outputId": "830b398f-8690-46b5-a797-8237b9c0d7ad"
      },
      "outputs": [
        {
          "output_type": "stream",
          "name": "stdout",
          "text": [
            "      Name   Age   Salary   Department\n",
            "0    Alice  25.0  50000.0           hr\n",
            "1      Bob  30.0      NaN  engineering\n",
            "2  Charlie  35.0  70000.0  engineering\n",
            "3    David   NaN  60000.0           hr\n",
            "4      Eve  28.0  80000.0           hr\n",
            "5    Frank  40.0  55000.0        sales\n",
            "6    Grace  50.0  85000.0        sales\n",
            "7     Hank  60.0  90000.0        sales\n",
            "8    Alice  25.0  50000.0           hr\n",
            "9      Bob  30.0      NaN  engineering\n"
          ]
        }
      ],
      "source": [
        "# Convert all department names to lowercase for consistency\n",
        "df['Department'] = df['Department'].str.lower()\n",
        "print(df)"
      ]
    },
    {
      "cell_type": "markdown",
      "id": "54a77187",
      "metadata": {
        "id": "54a77187"
      },
      "source": [
        "### Min-Max Normalization"
      ]
    },
    {
      "cell_type": "code",
      "source": [
        "# Apply Min-Max normalization using the formula\n",
        "df_normalized = df.copy()\n",
        "for col in ['Age', 'Salary']:\n",
        "    df_normalized[col] = (df[col] - df[col].min()) / (df[col].max() - df[col].min())\n",
        "\n",
        "# Print original and normalized values\n",
        "print(\"Original DataFrame:\")\n",
        "print(df)\n",
        "print(\"\\nNormalized DataFrame:\")\n",
        "print(df_normalized)"
      ],
      "metadata": {
        "colab": {
          "base_uri": "https://localhost:8080/"
        },
        "id": "0EQ2Hciri9sL",
        "outputId": "9da13141-f397-4da2-dcdf-5bd7937f4823"
      },
      "id": "0EQ2Hciri9sL",
      "execution_count": null,
      "outputs": [
        {
          "output_type": "stream",
          "name": "stdout",
          "text": [
            "Original DataFrame:\n",
            "      Name   Age   Salary   Department\n",
            "0    Alice  25.0  50000.0           hr\n",
            "1      Bob  30.0      NaN  engineering\n",
            "2  Charlie  35.0  70000.0  engineering\n",
            "3    David   NaN  60000.0           hr\n",
            "4      Eve  28.0  80000.0           hr\n",
            "5    Frank  40.0  55000.0        sales\n",
            "6    Grace  50.0  85000.0        sales\n",
            "7     Hank  60.0  90000.0        sales\n",
            "8    Alice  25.0  50000.0           hr\n",
            "9      Bob  30.0      NaN  engineering\n",
            "\n",
            "Normalized DataFrame:\n",
            "      Name       Age  Salary   Department\n",
            "0    Alice  0.000000   0.000           hr\n",
            "1      Bob  0.142857     NaN  engineering\n",
            "2  Charlie  0.285714   0.500  engineering\n",
            "3    David       NaN   0.250           hr\n",
            "4      Eve  0.085714   0.750           hr\n",
            "5    Frank  0.428571   0.125        sales\n",
            "6    Grace  0.714286   0.875        sales\n",
            "7     Hank  1.000000   1.000        sales\n",
            "8    Alice  0.000000   0.000           hr\n",
            "9      Bob  0.142857     NaN  engineering\n"
          ]
        }
      ]
    },
    {
      "cell_type": "markdown",
      "source": [
        "Advantages:\n",
        "\n",
        "* Ensures that all features contribute equally to the analysis.\n",
        "* Helps improve the performance of machine learning algorithms.\n",
        "* Simplifies the interpretation of coefficients in linear models.\n",
        "\n",
        "Disadvantages:\n",
        "\n",
        "* Sensitive to outliers, as the range is determined by the minimum and maximum values.\n",
        "* Not suitable for data with a non-linear distribution, as it can distort the original data distribution.\n"
      ],
      "metadata": {
        "id": "9D-zmhFRjtW5"
      },
      "id": "9D-zmhFRjtW5"
    },
    {
      "cell_type": "markdown",
      "source": [
        "### Thank You"
      ],
      "metadata": {
        "id": "DO-FiOwaj9ad"
      },
      "id": "DO-FiOwaj9ad"
    }
  ],
  "metadata": {
    "colab": {
      "provenance": [],
      "include_colab_link": true
    },
    "language_info": {
      "name": "python"
    },
    "kernelspec": {
      "name": "python3",
      "display_name": "Python 3"
    }
  },
  "nbformat": 4,
  "nbformat_minor": 5
}